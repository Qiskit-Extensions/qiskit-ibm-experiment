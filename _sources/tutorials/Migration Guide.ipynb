{
 "cells": [
  {
   "cell_type": "markdown",
   "metadata": {},
   "source": [
    "# Experiment service migration guide\n",
    "\n",
    "`qiskit-ibm-experiment` aims to replace the experiment database service that was included as part of the deprecated `qiskit-ibmq-provider` package. There interface for the service in both packages is similar, with two key differences:\n",
    "1. `qiskit-ibm-experiment` methods get and return dataclass parameters, instead receiving separate values and returning dictionaries.\n",
    "2. `qiskit-ibm-experiment` does not automatically generate the experiment service as part of a larger provider; the experiment service needs to be manually created.\n",
    "\n",
    "In this guide we cover those differences."
   ]
  },
  {
   "cell_type": "markdown",
   "metadata": {},
   "source": [
    "## Quick start example: old usage vs new usage"
   ]
  },
  {
   "cell_type": "markdown",
   "metadata": {},
   "source": [
    "### Old usage:\n",
    "This code works when the `qiskit-terra` and `qiskit-ibmq-provider` packages are installed and credentials for using IBMQ are already locally stored on the computer."
   ]
  },
  {
   "cell_type": "code",
   "execution_count": 3,
   "metadata": {},
   "outputs": [
    {
     "name": "stdout",
     "output_type": "stream",
     "text": [
      "2022-09-08 12:35:14.997000+03:00\n",
      "labuser_test\n"
     ]
    }
   ],
   "source": [
    "from qiskit import IBMQ\n",
    "provider = IBMQ.load_account()\n",
    "service = provider.experiment\n",
    "experiment_data = service.experiment(experiment_id = '5524b504-2f59-11ed-a7c7-bc97e15b08d0')\n",
    "print(experiment_data['creation_datetime'])\n",
    "print(experiment_data['metadata']['user'])"
   ]
  },
  {
   "cell_type": "markdown",
   "metadata": {},
   "source": [
    "### New usage:\n",
    "This code works when the `qiskit-ibm-experiment` package is installed and credentials for using IBMQ are already locally stored on the computer."
   ]
  },
  {
   "cell_type": "code",
   "execution_count": 4,
   "metadata": {},
   "outputs": [
    {
     "name": "stdout",
     "output_type": "stream",
     "text": [
      "2022-09-08 12:35:14.997000+03:00\n",
      "labuser_test\n"
     ]
    }
   ],
   "source": [
    "from qiskit_ibm_experiment import IBMExperimentService\n",
    "service = IBMExperimentService()\n",
    "experiment_data = service.experiment(experiment_id = '5524b504-2f59-11ed-a7c7-bc97e15b08d0')\n",
    "print(experiment_data.creation_datetime)\n",
    "print(experiment_data.metadata['user'])"
   ]
  },
  {
   "attachments": {},
   "cell_type": "markdown",
   "metadata": {},
   "source": [
    "# Service creation\n",
    "\n",
    "In `qiskit-ibmq-provider`, one did not create the experiment service explicitly. Rather, after loading the account, the experiment service was accessed via the `experiment` field.\n",
    "\n",
    "To use the new experiment service, it needs to be explicitly created via the `IBMExperimentService()` constructor. It can accept the same authentication parameters used as part of `qiskit-ibmq-provider`. e.g. passing a token or a url. In most cases it is best to perform once\n",
    "\n",
    "```python\n",
    "   from qiskit_ibm_experiment import IBMExperimentService\n",
    "   IBMExperimentService.save_account(name='my_config', token='MY_API_TOKEN')\n",
    "   ```\n",
    "\n",
    "Allowing the token to be retrieved automatically when creating a service."
   ]
  },
  {
   "attachments": {},
   "cell_type": "markdown",
   "metadata": {},
   "source": [
    "# Method usage\n",
    "\n",
    "The interface for the class remains almost the same. The main change is the return value of `experiment`, `experiments`, `analysis_result` and `analysis_results`.\n",
    "\n",
    "All the following methods are used exactly in the same way:\n",
    "* `backends`\n",
    "* `create_analysis_result`\n",
    "* `create_experiment`\n",
    "* `create_figure`\n",
    "* `delete_analysis_result`\n",
    "* `delete_experiment`\n",
    "* `delete_figure`\n",
    "* `device_components`\n",
    "* `figure`\n",
    "* `save_preferences`\n",
    "* `update_analysis_result`\n",
    "* `update_experiment`\n",
    "\n",
    "The return values of `experiment` and `analysis_result` was changed from `Dict` to `ExperimentData` and `AnalysisResultData`. The result types of `experiments` and `analysis_results` is now a list of the corresponding data type.\n",
    "\n",
    "**Note**: A planned future change involves `analysis_results` returning a `pandas` dataframe by default; this is not yet implemented.\n",
    "\n",
    "As seen in the above usage example, the return value change means that instead of doing, e.g.\n",
    "\n",
    "(Old style)\n",
    "```python\n",
    "   print(experiment_data['metadata']['user'])\n",
    "   ```\n",
    "(New Style)\n",
    "```python\n",
    "   print(experiment_data.metadata['user'])\n",
    "   ```\n",
    "(the `metadata` value remains a dictionary, even though the experiment data was changed to `ExperimentData` class)"
   ]
  }
 ],
 "metadata": {
  "kernelspec": {
   "display_name": "qiskit37",
   "language": "python",
   "name": "qiskit37"
  },
  "language_info": {
   "codemirror_mode": {
    "name": "ipython",
    "version": 3
   },
   "file_extension": ".py",
   "mimetype": "text/x-python",
   "name": "python",
   "nbconvert_exporter": "python",
   "pygments_lexer": "ipython3",
   "version": "3.7.10"
  }
 },
 "nbformat": 4,
 "nbformat_minor": 4
}
